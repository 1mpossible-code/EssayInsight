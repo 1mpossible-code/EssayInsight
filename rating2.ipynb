{
 "cells": [
  {
   "cell_type": "markdown",
   "metadata": {},
   "source": [
    "# Imports"
   ]
  },
  {
   "cell_type": "code",
   "execution_count": 7,
   "metadata": {},
   "outputs": [],
   "source": [
    "import tensorflow as tf\n",
    "from tensorflow.keras.preprocessing.text import Tokenizer\n",
    "from tensorflow.keras.preprocessing.sequence import pad_sequences\n",
    "import numpy as np"
   ]
  },
  {
   "cell_type": "markdown",
   "metadata": {},
   "source": [
    "# Import essays"
   ]
  },
  {
   "cell_type": "code",
   "execution_count": 3,
   "metadata": {},
   "outputs": [],
   "source": [
    "import pandas as pd\n",
    "\n",
    "# Load the dataset\n",
    "file_path = 'ielts_writing_dataset.csv'  # Make sure the path is correct\n",
    "dataset = pd.read_csv(file_path)\n",
    "\n",
    "# Select only the 'Essay' and 'Overall' columns\n",
    "essays = dataset['Essay']\n",
    "scores = dataset['Overall']\n"
   ]
  },
  {
   "cell_type": "markdown",
   "metadata": {},
   "source": [
    "# Data Preprocessing"
   ]
  },
  {
   "cell_type": "code",
   "execution_count": 4,
   "metadata": {},
   "outputs": [],
   "source": [
    "# Parameters\n",
    "vocab_size = 10000  # Adjust as needed\n",
    "max_length = 300    # Adjust based on your essay length\n",
    "padding_type = 'post'\n",
    "trunc_type = 'post'\n",
    "\n",
    "# Tokenizing the essays\n",
    "tokenizer = Tokenizer(num_words=vocab_size, oov_token=\"<OOV>\")\n",
    "tokenizer.fit_on_texts(essays)\n",
    "word_index = tokenizer.word_index\n",
    "\n",
    "# Converting essays to sequences\n",
    "sequences = tokenizer.texts_to_sequences(essays)\n",
    "padded = pad_sequences(sequences, maxlen=max_length, padding=padding_type, truncating=trunc_type)"
   ]
  },
  {
   "cell_type": "markdown",
   "metadata": {},
   "source": [
    "# Build"
   ]
  },
  {
   "cell_type": "code",
   "execution_count": 5,
   "metadata": {},
   "outputs": [
    {
     "name": "stdout",
     "output_type": "stream",
     "text": [
      "Model: \"sequential\"\n",
      "_________________________________________________________________\n",
      " Layer (type)                Output Shape              Param #   \n",
      "=================================================================\n",
      " embedding (Embedding)       (None, 300, 64)           640000    \n",
      "                                                                 \n",
      " bidirectional (Bidirection  (None, 128)               66048     \n",
      " al)                                                             \n",
      "                                                                 \n",
      " dense (Dense)               (None, 64)                8256      \n",
      "                                                                 \n",
      " dense_1 (Dense)             (None, 1)                 65        \n",
      "                                                                 \n",
      "=================================================================\n",
      "Total params: 714369 (2.73 MB)\n",
      "Trainable params: 714369 (2.73 MB)\n",
      "Non-trainable params: 0 (0.00 Byte)\n",
      "_________________________________________________________________\n"
     ]
    }
   ],
   "source": [
    "model = tf.keras.Sequential([\n",
    "    tf.keras.layers.Embedding(vocab_size, 64, input_length=max_length),\n",
    "    tf.keras.layers.Bidirectional(tf.keras.layers.LSTM(64)),\n",
    "    tf.keras.layers.Dense(64, activation='relu'),\n",
    "    tf.keras.layers.Dense(1)  # Single output node for regression\n",
    "])\n",
    "\n",
    "model.compile(loss='mean_squared_error', optimizer='adam', metrics=['mean_absolute_error'])\n",
    "model.summary()\n"
   ]
  },
  {
   "cell_type": "markdown",
   "metadata": {},
   "source": [
    "# Training"
   ]
  },
  {
   "cell_type": "code",
   "execution_count": 8,
   "metadata": {},
   "outputs": [
    {
     "name": "stdout",
     "output_type": "stream",
     "text": [
      "Epoch 1/10\n",
      "36/36 [==============================] - 6s 129ms/step - loss: 16.5498 - mean_absolute_error: 3.1732 - val_loss: 1.2628 - val_mean_absolute_error: 0.8797\n",
      "Epoch 2/10\n",
      "36/36 [==============================] - 4s 116ms/step - loss: 1.2187 - mean_absolute_error: 0.8875 - val_loss: 1.0994 - val_mean_absolute_error: 0.8251\n",
      "Epoch 3/10\n",
      "36/36 [==============================] - 4s 116ms/step - loss: 1.1152 - mean_absolute_error: 0.8417 - val_loss: 1.0731 - val_mean_absolute_error: 0.8164\n",
      "Epoch 4/10\n",
      "36/36 [==============================] - 4s 121ms/step - loss: 1.0582 - mean_absolute_error: 0.8183 - val_loss: 1.0889 - val_mean_absolute_error: 0.8349\n",
      "Epoch 5/10\n",
      "36/36 [==============================] - 4s 121ms/step - loss: 0.9517 - mean_absolute_error: 0.7750 - val_loss: 0.9777 - val_mean_absolute_error: 0.7850\n",
      "Epoch 6/10\n",
      "36/36 [==============================] - 5s 138ms/step - loss: 0.6653 - mean_absolute_error: 0.6319 - val_loss: 0.9676 - val_mean_absolute_error: 0.7699\n",
      "Epoch 7/10\n",
      "36/36 [==============================] - 5s 140ms/step - loss: 0.3573 - mean_absolute_error: 0.4370 - val_loss: 0.9884 - val_mean_absolute_error: 0.7642\n",
      "Epoch 8/10\n",
      "36/36 [==============================] - 5s 132ms/step - loss: 0.1924 - mean_absolute_error: 0.3146 - val_loss: 1.0425 - val_mean_absolute_error: 0.7738\n",
      "Epoch 9/10\n",
      "36/36 [==============================] - 5s 134ms/step - loss: 0.1170 - mean_absolute_error: 0.2328 - val_loss: 1.0219 - val_mean_absolute_error: 0.7573\n",
      "Epoch 10/10\n",
      "36/36 [==============================] - 5s 136ms/step - loss: 0.0817 - mean_absolute_error: 0.1824 - val_loss: 1.0347 - val_mean_absolute_error: 0.7541\n"
     ]
    },
    {
     "data": {
      "text/plain": [
       "<keras.src.callbacks.History at 0x28d58fc40>"
      ]
     },
     "execution_count": 8,
     "metadata": {},
     "output_type": "execute_result"
    }
   ],
   "source": [
    "# Convert scores to numpy array\n",
    "scores = np.array(scores)\n",
    "\n",
    "# Split data into training and testing sets\n",
    "from sklearn.model_selection import train_test_split\n",
    "train_padded, test_padded, train_scores, test_scores = train_test_split(padded, scores, test_size=0.2)\n",
    "\n",
    "# Train the model\n",
    "num_epochs = 10  # Adjust as needed\n",
    "model.fit(train_padded, train_scores, epochs=num_epochs, validation_data=(test_padded, test_scores))\n"
   ]
  },
  {
   "cell_type": "markdown",
   "metadata": {},
   "source": [
    "# Evaluation"
   ]
  },
  {
   "cell_type": "code",
   "execution_count": 9,
   "metadata": {},
   "outputs": [
    {
     "name": "stdout",
     "output_type": "stream",
     "text": [
      "9/9 [==============================] - 0s 35ms/step - loss: 1.0347 - mean_absolute_error: 0.7541\n",
      "Loss: 1.0347354412078857, Accuracy: 0.7541486620903015\n"
     ]
    }
   ],
   "source": [
    "loss, accuracy = model.evaluate(test_padded, test_scores)\n",
    "print(f'Loss: {loss}, Accuracy: {accuracy}')"
   ]
  }
 ],
 "metadata": {
  "kernelspec": {
   "display_name": "venv",
   "language": "python",
   "name": "python3"
  },
  "language_info": {
   "codemirror_mode": {
    "name": "ipython",
    "version": 3
   },
   "file_extension": ".py",
   "mimetype": "text/x-python",
   "name": "python",
   "nbconvert_exporter": "python",
   "pygments_lexer": "ipython3",
   "version": "3.9.18"
  }
 },
 "nbformat": 4,
 "nbformat_minor": 2
}
