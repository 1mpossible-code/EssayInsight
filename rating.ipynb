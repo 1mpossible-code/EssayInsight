{
 "cells": [
  {
   "cell_type": "markdown",
   "metadata": {},
   "source": [
    "# Model to rate essays based on the text provided"
   ]
  },
  {
   "cell_type": "code",
   "execution_count": 73,
   "metadata": {},
   "outputs": [],
   "source": [
    "# Imports\n",
    "import numpy as np\n",
    "import pandas as pd\n",
    "import matplotlib.pyplot as plt\n",
    "import tensorflow as tf\n",
    "from tensorflow.keras.preprocessing.sequence import pad_sequences"
   ]
  },
  {
   "cell_type": "code",
   "execution_count": 74,
   "metadata": {},
   "outputs": [
    {
     "data": {
      "text/html": [
       "<div>\n",
       "<style scoped>\n",
       "    .dataframe tbody tr th:only-of-type {\n",
       "        vertical-align: middle;\n",
       "    }\n",
       "\n",
       "    .dataframe tbody tr th {\n",
       "        vertical-align: top;\n",
       "    }\n",
       "\n",
       "    .dataframe thead th {\n",
       "        text-align: right;\n",
       "    }\n",
       "</style>\n",
       "<table border=\"1\" class=\"dataframe\">\n",
       "  <thead>\n",
       "    <tr style=\"text-align: right;\">\n",
       "      <th></th>\n",
       "      <th>Task_Type</th>\n",
       "      <th>Question</th>\n",
       "      <th>Essay</th>\n",
       "      <th>Examiner_Commen</th>\n",
       "      <th>Task_Response</th>\n",
       "      <th>Coherence_Cohesion</th>\n",
       "      <th>Lexical_Resource</th>\n",
       "      <th>Range_Accuracy</th>\n",
       "      <th>Overall</th>\n",
       "    </tr>\n",
       "  </thead>\n",
       "  <tbody>\n",
       "    <tr>\n",
       "      <th>0</th>\n",
       "      <td>1</td>\n",
       "      <td>The bar chart below describes some changes abo...</td>\n",
       "      <td>Between 1995 and 2010, a study was conducted r...</td>\n",
       "      <td>NaN</td>\n",
       "      <td>NaN</td>\n",
       "      <td>NaN</td>\n",
       "      <td>NaN</td>\n",
       "      <td>NaN</td>\n",
       "      <td>5.5</td>\n",
       "    </tr>\n",
       "    <tr>\n",
       "      <th>1</th>\n",
       "      <td>2</td>\n",
       "      <td>Rich countries often give money to poorer coun...</td>\n",
       "      <td>Poverty represents a worldwide crisis. It is t...</td>\n",
       "      <td>NaN</td>\n",
       "      <td>NaN</td>\n",
       "      <td>NaN</td>\n",
       "      <td>NaN</td>\n",
       "      <td>NaN</td>\n",
       "      <td>6.5</td>\n",
       "    </tr>\n",
       "    <tr>\n",
       "      <th>2</th>\n",
       "      <td>1</td>\n",
       "      <td>The bar chart below describes some changes abo...</td>\n",
       "      <td>The left chart shows the population change hap...</td>\n",
       "      <td>NaN</td>\n",
       "      <td>NaN</td>\n",
       "      <td>NaN</td>\n",
       "      <td>NaN</td>\n",
       "      <td>NaN</td>\n",
       "      <td>5.0</td>\n",
       "    </tr>\n",
       "    <tr>\n",
       "      <th>3</th>\n",
       "      <td>2</td>\n",
       "      <td>Rich countries often give money to poorer coun...</td>\n",
       "      <td>Human beings are facing many challenges nowada...</td>\n",
       "      <td>NaN</td>\n",
       "      <td>NaN</td>\n",
       "      <td>NaN</td>\n",
       "      <td>NaN</td>\n",
       "      <td>NaN</td>\n",
       "      <td>5.5</td>\n",
       "    </tr>\n",
       "    <tr>\n",
       "      <th>4</th>\n",
       "      <td>1</td>\n",
       "      <td>The graph below shows the number of overseas v...</td>\n",
       "      <td>Information about the thousands of visits from...</td>\n",
       "      <td>NaN</td>\n",
       "      <td>NaN</td>\n",
       "      <td>NaN</td>\n",
       "      <td>NaN</td>\n",
       "      <td>NaN</td>\n",
       "      <td>7.0</td>\n",
       "    </tr>\n",
       "  </tbody>\n",
       "</table>\n",
       "</div>"
      ],
      "text/plain": [
       "   Task_Type                                           Question  \\\n",
       "0          1  The bar chart below describes some changes abo...   \n",
       "1          2  Rich countries often give money to poorer coun...   \n",
       "2          1  The bar chart below describes some changes abo...   \n",
       "3          2  Rich countries often give money to poorer coun...   \n",
       "4          1  The graph below shows the number of overseas v...   \n",
       "\n",
       "                                               Essay Examiner_Commen  \\\n",
       "0  Between 1995 and 2010, a study was conducted r...             NaN   \n",
       "1  Poverty represents a worldwide crisis. It is t...             NaN   \n",
       "2  The left chart shows the population change hap...             NaN   \n",
       "3  Human beings are facing many challenges nowada...             NaN   \n",
       "4  Information about the thousands of visits from...             NaN   \n",
       "\n",
       "   Task_Response  Coherence_Cohesion  Lexical_Resource  Range_Accuracy  \\\n",
       "0            NaN                 NaN               NaN             NaN   \n",
       "1            NaN                 NaN               NaN             NaN   \n",
       "2            NaN                 NaN               NaN             NaN   \n",
       "3            NaN                 NaN               NaN             NaN   \n",
       "4            NaN                 NaN               NaN             NaN   \n",
       "\n",
       "   Overall  \n",
       "0      5.5  \n",
       "1      6.5  \n",
       "2      5.0  \n",
       "3      5.5  \n",
       "4      7.0  "
      ]
     },
     "execution_count": 74,
     "metadata": {},
     "output_type": "execute_result"
    }
   ],
   "source": [
    "# Import dataset\n",
    "dataset = pd.read_csv('ielts_writing_dataset.csv')\n",
    "\n",
    "dataset.head()"
   ]
  },
  {
   "cell_type": "code",
   "execution_count": 75,
   "metadata": {},
   "outputs": [
    {
     "data": {
      "text/plain": [
       "(14, 256.7324041811847)"
      ]
     },
     "execution_count": 75,
     "metadata": {},
     "output_type": "execute_result"
    }
   ],
   "source": [
    "# Figure out all values of 'Overall' column\n",
    "\n",
    "l = len(dataset['Overall'].unique())\n",
    "\n",
    "# Lets figure out the average length of the essays in the dataset\n",
    "\n",
    "a =  dataset['Essay'].str.split().str.len().mean()\n",
    "\n",
    "l, a"
   ]
  },
  {
   "cell_type": "markdown",
   "metadata": {},
   "source": [
    "# Data Preprocessing\n",
    "\n",
    "We need to remove unnecessary columns from our dataset. We will only keep the \"Essay\" and \"Overall\" columns. We will use 80% of the data for training and 20% for testing."
   ]
  },
  {
   "cell_type": "code",
   "execution_count": 76,
   "metadata": {},
   "outputs": [
    {
     "data": {
      "text/html": [
       "<div>\n",
       "<style scoped>\n",
       "    .dataframe tbody tr th:only-of-type {\n",
       "        vertical-align: middle;\n",
       "    }\n",
       "\n",
       "    .dataframe tbody tr th {\n",
       "        vertical-align: top;\n",
       "    }\n",
       "\n",
       "    .dataframe thead th {\n",
       "        text-align: right;\n",
       "    }\n",
       "</style>\n",
       "<table border=\"1\" class=\"dataframe\">\n",
       "  <thead>\n",
       "    <tr style=\"text-align: right;\">\n",
       "      <th></th>\n",
       "      <th>Essay</th>\n",
       "      <th>Overall</th>\n",
       "    </tr>\n",
       "  </thead>\n",
       "  <tbody>\n",
       "    <tr>\n",
       "      <th>0</th>\n",
       "      <td>Between 1995 and 2010, a study was conducted r...</td>\n",
       "      <td>5.5</td>\n",
       "    </tr>\n",
       "    <tr>\n",
       "      <th>1</th>\n",
       "      <td>Poverty represents a worldwide crisis. It is t...</td>\n",
       "      <td>6.5</td>\n",
       "    </tr>\n",
       "    <tr>\n",
       "      <th>2</th>\n",
       "      <td>The left chart shows the population change hap...</td>\n",
       "      <td>5.0</td>\n",
       "    </tr>\n",
       "    <tr>\n",
       "      <th>3</th>\n",
       "      <td>Human beings are facing many challenges nowada...</td>\n",
       "      <td>5.5</td>\n",
       "    </tr>\n",
       "    <tr>\n",
       "      <th>4</th>\n",
       "      <td>Information about the thousands of visits from...</td>\n",
       "      <td>7.0</td>\n",
       "    </tr>\n",
       "  </tbody>\n",
       "</table>\n",
       "</div>"
      ],
      "text/plain": [
       "                                               Essay  Overall\n",
       "0  Between 1995 and 2010, a study was conducted r...      5.5\n",
       "1  Poverty represents a worldwide crisis. It is t...      6.5\n",
       "2  The left chart shows the population change hap...      5.0\n",
       "3  Human beings are facing many challenges nowada...      5.5\n",
       "4  Information about the thousands of visits from...      7.0"
      ]
     },
     "execution_count": 76,
     "metadata": {},
     "output_type": "execute_result"
    }
   ],
   "source": [
    "# Data Preprocessing\n",
    "\n",
    "# Remove task type column\n",
    "\n",
    "processed = dataset.drop(['Task_Type', 'Question', 'Task_Response', 'Examiner_Commen', 'Coherence_Cohesion', 'Lexical_Resource', 'Range_Accuracy'], axis=1)\n",
    "\n",
    "processed.head()"
   ]
  },
  {
   "cell_type": "code",
   "execution_count": 80,
   "metadata": {},
   "outputs": [
    {
     "data": {
      "text/plain": [
       "1322    Raising the price of car fuel is believed by s...\n",
       "609     Nowadays, with all the technology and studies ...\n",
       "511     Change is considered a positive thing by some ...\n",
       "877     The increasing number of criminals are appeare...\n",
       "1274    The three pie graphs give information on the s...\n",
       "Name: Essay, dtype: object"
      ]
     },
     "execution_count": 80,
     "metadata": {},
     "output_type": "execute_result"
    }
   ],
   "source": [
    "# Separate the dataset into training and testing sets. We will use 80% of the data for training and 20% for testing.\n",
    "# The column we want to predict is the 'Overall' column that contains the IELTS score.\n",
    "# The column 'Essay' contains the essay text.\n",
    "# We will use essay text as a feature to predict the score.\n",
    "\n",
    "processed = processed.dropna()\n",
    "X = processed['Essay']\n",
    "y = processed['Overall']\n",
    "\n",
    "# Split the dataset into training and testing sets using tensorflow\n",
    "from sklearn.model_selection import train_test_split\n",
    "\n",
    "(X_train, y_train, X_test, y_test) = train_test_split(X, y, test_size=0.2, random_state=0)\n",
    "\n",
    "X_train.head()"
   ]
  },
  {
   "cell_type": "code",
   "execution_count": 91,
   "metadata": {},
   "outputs": [],
   "source": [
    "X_train_dataset = tf.data.Dataset.from_tensor_slices(X_train)\n",
    "y_train_dataset = tf.data.Dataset.from_tensor_slices(y_train)\n",
    "\n",
    "X_test_dataset = tf.data.Dataset.from_tensor_slices(X_test)\n",
    "y_test_dataset = tf.data.Dataset.from_tensor_slices(y_test)"
   ]
  },
  {
   "cell_type": "code",
   "execution_count": 84,
   "metadata": {},
   "outputs": [
    {
     "data": {
      "text/plain": [
       "['', '[UNK]', 'the', 'to', 'of', 'in', 'and', 'a', 'is', 'that']"
      ]
     },
     "execution_count": 84,
     "metadata": {},
     "output_type": "execute_result"
    }
   ],
   "source": [
    "vectorize_layer = tf.keras.layers.experimental.preprocessing.TextVectorization(\n",
    "    max_tokens=20000,\n",
    "    output_mode='int',\n",
    "    output_sequence_length=200)\n",
    "\n",
    "vectorize_layer.adapt(X_train_dataset)\n",
    "\n",
    "# Lets see how the vectorization layer works\n",
    "\n",
    "vectorize_layer.get_vocabulary()[0:10]"
   ]
  },
  {
   "cell_type": "code",
   "execution_count": 85,
   "metadata": {},
   "outputs": [],
   "source": [
    "# Pad the sequences to have the same length\n",
    "X_train_dataset = X_train_dataset.map(lambda x: vectorize_layer(x))\n",
    "y_train_dataset = y_train_dataset.map(lambda x: vectorize_layer(x))\n",
    "\n",
    "X_train_dataset = X_train_dataset.padded_batch(32)\n",
    "y_train_dataset = y_train_dataset.padded_batch(32)\n"
   ]
  },
  {
   "cell_type": "code",
   "execution_count": 114,
   "metadata": {},
   "outputs": [],
   "source": [
    "# Build the model\n",
    "model = tf.keras.Sequential([\n",
    "    tf.keras.Input(shape=(1,), dtype=tf.string),\n",
    "    vectorize_layer,\n",
    "    tf.keras.layers.Embedding(20000, 256),\n",
    "    tf.keras.layers.LSTM(1024),\n",
    "    tf.keras.layers.Dense(128, activation='relu'),\n",
    "    tf.keras.layers.Dense(14, activation='softmax')\n",
    "])"
   ]
  },
  {
   "cell_type": "code",
   "execution_count": 115,
   "metadata": {},
   "outputs": [
    {
     "name": "stdout",
     "output_type": "stream",
     "text": [
      "Model: \"sequential_5\"\n",
      "_________________________________________________________________\n",
      " Layer (type)                Output Shape              Param #   \n",
      "=================================================================\n",
      " text_vectorization_26 (Tex  (None, 200)               0         \n",
      " tVectorization)                                                 \n",
      "                                                                 \n",
      " embedding_5 (Embedding)     (None, 200, 256)          5120000   \n",
      "                                                                 \n",
      " lstm_5 (LSTM)               (None, 1024)              5246976   \n",
      "                                                                 \n",
      " dense_11 (Dense)            (None, 128)               131200    \n",
      "                                                                 \n",
      " dense_12 (Dense)            (None, 14)                1806      \n",
      "                                                                 \n",
      "=================================================================\n",
      "Total params: 10499982 (40.05 MB)\n",
      "Trainable params: 10499982 (40.05 MB)\n",
      "Non-trainable params: 0 (0.00 Byte)\n",
      "_________________________________________________________________\n"
     ]
    }
   ],
   "source": [
    "model.summary()"
   ]
  },
  {
   "cell_type": "code",
   "execution_count": 116,
   "metadata": {},
   "outputs": [
    {
     "name": "stdout",
     "output_type": "stream",
     "text": [
      "Epoch 1/3\n"
     ]
    },
    {
     "name": "stdout",
     "output_type": "stream",
     "text": [
      "36/36 [==============================] - 97s 3s/step - loss: 1.7387 - accuracy: 0.1551\n",
      "Epoch 2/3\n",
      "36/36 [==============================] - 121s 3s/step - loss: 1.5259 - accuracy: 0.1838\n",
      "Epoch 3/3\n",
      "36/36 [==============================] - 98s 3s/step - loss: 1.5115 - accuracy: 0.1768\n"
     ]
    },
    {
     "data": {
      "text/plain": [
       "<keras.src.callbacks.History at 0x2f4f95310>"
      ]
     },
     "execution_count": 116,
     "metadata": {},
     "output_type": "execute_result"
    }
   ],
   "source": [
    "# Compile the model\n",
    "model.compile(loss='sparse_categorical_crossentropy', optimizer='adam', metrics=['accuracy'])\n",
    "train_dataset = tf.data.Dataset.zip((X_train_dataset, X_test_dataset)).batch(32)\n",
    "# Train the model\n",
    "model.fit(train_dataset, epochs=3)"
   ]
  },
  {
   "cell_type": "code",
   "execution_count": 117,
   "metadata": {},
   "outputs": [
    {
     "name": "stdout",
     "output_type": "stream",
     "text": [
      "9/9 [==============================] - 8s 853ms/step - loss: 1.6046 - accuracy: 0.2265\n"
     ]
    },
    {
     "data": {
      "text/plain": [
       "[1.6045989990234375, 0.22648084163665771]"
      ]
     },
     "execution_count": 117,
     "metadata": {},
     "output_type": "execute_result"
    }
   ],
   "source": [
    "test_dataset = tf.data.Dataset.zip((y_train_dataset, y_test_dataset)).batch(32)\n",
    "# Evaluate the model\n",
    "model.evaluate(test_dataset)\n"
   ]
  }
 ],
 "metadata": {
  "kernelspec": {
   "display_name": "venv",
   "language": "python",
   "name": "python3"
  },
  "language_info": {
   "codemirror_mode": {
    "name": "ipython",
    "version": 3
   },
   "file_extension": ".py",
   "mimetype": "text/x-python",
   "name": "python",
   "nbconvert_exporter": "python",
   "pygments_lexer": "ipython3",
   "version": "3.9.18"
  }
 },
 "nbformat": 4,
 "nbformat_minor": 2
}
